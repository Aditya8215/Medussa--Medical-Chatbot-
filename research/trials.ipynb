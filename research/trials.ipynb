{
 "cells": [
  {
   "cell_type": "markdown",
   "id": "5191f23a",
   "metadata": {},
   "source": [
    "# PDF Extraction"
   ]
  },
  {
   "cell_type": "code",
   "execution_count": 2,
   "id": "ca88fb74",
   "metadata": {},
   "outputs": [
    {
     "data": {
      "text/plain": [
       "'z:\\\\VsCode\\\\Medussa-Medical Chatbot\\\\Medussa--Medical-Chatbot-\\\\research'"
      ]
     },
     "execution_count": 2,
     "metadata": {},
     "output_type": "execute_result"
    }
   ],
   "source": [
    "%pwd"
   ]
  },
  {
   "cell_type": "code",
   "execution_count": 3,
   "id": "e6052ac6",
   "metadata": {},
   "outputs": [],
   "source": [
    "import os \n",
    "os.chdir(\"../\")"
   ]
  },
  {
   "cell_type": "code",
   "execution_count": 4,
   "id": "665cdb89",
   "metadata": {},
   "outputs": [
    {
     "data": {
      "text/plain": [
       "'z:\\\\VsCode\\\\Medussa-Medical Chatbot\\\\Medussa--Medical-Chatbot-'"
      ]
     },
     "execution_count": 4,
     "metadata": {},
     "output_type": "execute_result"
    }
   ],
   "source": [
    "%pwd"
   ]
  },
  {
   "cell_type": "code",
   "execution_count": 5,
   "id": "c3c1e59f",
   "metadata": {},
   "outputs": [],
   "source": [
    "from langchain.document_loaders import PyPDFLoader, DirectoryLoader\n",
    "from langchain.text_splitter import RecursiveCharacterTextSplitter"
   ]
  },
  {
   "cell_type": "code",
   "execution_count": 11,
   "id": "2c342f74",
   "metadata": {},
   "outputs": [],
   "source": [
    "# Extract PDF Files\n",
    "def load_pdfs(directory):\n",
    "    loader=DirectoryLoader(\n",
    "        directory,\n",
    "        glob='*.pdf',\n",
    "        loader_cls=PyPDFLoader\n",
    "    )\n",
    "    documents=loader.load()\n",
    "    return documents"
   ]
  },
  {
   "cell_type": "code",
   "execution_count": 14,
   "id": "c69683d1",
   "metadata": {},
   "outputs": [
    {
     "name": "stderr",
     "output_type": "stream",
     "text": [
      "<>:1: SyntaxWarning: invalid escape sequence '\\V'\n",
      "<>:1: SyntaxWarning: invalid escape sequence '\\V'\n",
      "C:\\Users\\vinod\\AppData\\Local\\Temp\\ipykernel_16164\\1353678739.py:1: SyntaxWarning: invalid escape sequence '\\V'\n",
      "  extracted_data=load_pdfs(\"Z:\\VsCode\\Medussa-Medical Chatbot\\Medussa--Medical-Chatbot-\\data\")\n"
     ]
    }
   ],
   "source": [
    "extracted_data=load_pdfs(\"Z:\\VsCode\\Medussa-Medical Chatbot\\Medussa--Medical-Chatbot-\\data\")"
   ]
  },
  {
   "cell_type": "code",
   "execution_count": 15,
   "id": "5bef6b71",
   "metadata": {},
   "outputs": [
    {
     "data": {
      "text/plain": [
       "637"
      ]
     },
     "execution_count": 15,
     "metadata": {},
     "output_type": "execute_result"
    }
   ],
   "source": [
    "# extracted_data\n",
    "len(extracted_data)"
   ]
  },
  {
   "cell_type": "code",
   "execution_count": 16,
   "id": "ad08e57b",
   "metadata": {},
   "outputs": [],
   "source": [
    "from typing import List\n",
    "from langchain.schema import Document  # Document is a object that is used for compatability \n",
    "\n",
    "def filter_extracted_data(docs:List[Document])->List[Document]:\n",
    "    \"\"\"\n",
    "    Filter out extracted data \"\"\"\n",
    "    filter_data:List[Document]=[]\n",
    "    for doc in docs:\n",
    "        src=doc.metadata.get('source')\n",
    "        filter_data.append(\n",
    "            Document(\n",
    "                page_content=doc.page_content,\n",
    "                metadata={'source':src}\n",
    "            )\n",
    "        )\n",
    "    return filter_data"
   ]
  },
  {
   "cell_type": "code",
   "execution_count": 17,
   "id": "e08f7a57",
   "metadata": {},
   "outputs": [],
   "source": [
    "minimal_docs=filter_extracted_data(extracted_data)"
   ]
  },
  {
   "cell_type": "code",
   "execution_count": 19,
   "id": "7e592916",
   "metadata": {},
   "outputs": [],
   "source": [
    "# minimal_docs"
   ]
  },
  {
   "cell_type": "code",
   "execution_count": 7,
   "id": "dcb29061",
   "metadata": {},
   "outputs": [],
   "source": [
    "# Split the documents into smaller chunks\n",
    "def text_split(minimal_docs):\n",
    "    text_splitter=RecursiveCharacterTextSplitter(\n",
    "        chunk_size=700,\n",
    "        chunk_overlap=10,    # For understanding the context\n",
    "    )\n",
    "    texts_chunks=text_splitter.split_documents(minimal_docs)\n",
    "    return texts_chunks"
   ]
  },
  {
   "cell_type": "code",
   "execution_count": 20,
   "id": "1509e2d3",
   "metadata": {},
   "outputs": [
    {
     "name": "stdout",
     "output_type": "stream",
     "text": [
      "No of chunks 4203\n"
     ]
    }
   ],
   "source": [
    "texts_chunks=text_split(minimal_docs)\n",
    "print(f\"No of chunks {len(texts_chunks)}\")"
   ]
  },
  {
   "cell_type": "markdown",
   "id": "1712cd7d",
   "metadata": {},
   "source": [
    "# Embedding creation"
   ]
  },
  {
   "cell_type": "code",
   "execution_count": 21,
   "id": "0d3ffd37",
   "metadata": {},
   "outputs": [],
   "source": [
    "from langchain.embeddings import HuggingFaceEmbeddings\n",
    "def download_embeddings():\n",
    "    model_name=\"NeuML/pubmedbert-base-embeddings\"\n",
    "    embeddings=HuggingFaceEmbeddings(\n",
    "        model_name=model_name\n",
    "    )\n",
    "    return embeddings"
   ]
  },
  {
   "cell_type": "code",
   "execution_count": 22,
   "id": "c840ba9b",
   "metadata": {},
   "outputs": [
    {
     "name": "stderr",
     "output_type": "stream",
     "text": [
      "C:\\Users\\vinod\\AppData\\Local\\Temp\\ipykernel_16164\\2092857369.py:4: LangChainDeprecationWarning: The class `HuggingFaceEmbeddings` was deprecated in LangChain 0.2.2 and will be removed in 1.0. An updated version of the class exists in the :class:`~langchain-huggingface package and should be used instead. To use it run `pip install -U :class:`~langchain-huggingface` and import as `from :class:`~langchain_huggingface import HuggingFaceEmbeddings``.\n",
      "  embeddings=HuggingFaceEmbeddings(\n",
      "c:\\Users\\vinod\\AppData\\Local\\Programs\\Python\\Python313\\Lib\\site-packages\\tqdm\\auto.py:21: TqdmWarning: IProgress not found. Please update jupyter and ipywidgets. See https://ipywidgets.readthedocs.io/en/stable/user_install.html\n",
      "  from .autonotebook import tqdm as notebook_tqdm\n"
     ]
    }
   ],
   "source": [
    "embeddings=download_embeddings()"
   ]
  },
  {
   "cell_type": "code",
   "execution_count": 24,
   "id": "dd8df163",
   "metadata": {},
   "outputs": [],
   "source": [
    "# embeddings.embed_query(\"Hello World\")"
   ]
  },
  {
   "cell_type": "code",
   "execution_count": null,
   "id": "fcf2147a",
   "metadata": {},
   "outputs": [],
   "source": []
  },
  {
   "cell_type": "code",
   "execution_count": 6,
   "id": "58d7cf1f",
   "metadata": {},
   "outputs": [
    {
     "data": {
      "text/plain": [
       "True"
      ]
     },
     "execution_count": 6,
     "metadata": {},
     "output_type": "execute_result"
    }
   ],
   "source": [
    "from dotenv import load_dotenv\n",
    "import os\n",
    "load_dotenv()"
   ]
  },
  {
   "cell_type": "markdown",
   "id": "2e21c6d9",
   "metadata": {},
   "source": [
    "# ADD to Weaviate Vdb"
   ]
  },
  {
   "cell_type": "code",
   "execution_count": null,
   "id": "47a0b619",
   "metadata": {},
   "outputs": [],
   "source": [
    "import weaviate\n",
    "WEAVIATE_URL=os.environ.get(\"WEAVIATE_URL\")\n",
    "WEAVIATE_API_KEY=os.environ.get(\"WEAVIATE_API_KEY\")\n"
   ]
  },
  {
   "cell_type": "code",
   "execution_count": 63,
   "id": "eef37980",
   "metadata": {},
   "outputs": [],
   "source": [
    "import os\n",
    "os.environ[\"WEAVIATE_URL\"] = WEAVIATE_URL\n",
    "os.environ[\"WEAVIATE_API_KEY\"] = WEAVIATE_API_KEY"
   ]
  },
  {
   "cell_type": "code",
   "execution_count": 31,
   "id": "66783d13",
   "metadata": {},
   "outputs": [
    {
     "data": {
      "text/plain": [
       "True"
      ]
     },
     "execution_count": 31,
     "metadata": {},
     "output_type": "execute_result"
    }
   ],
   "source": [
    "import weaviate, os\n",
    "import weaviate.classes as wvc\n",
    "\n",
    "URL = os.getenv(\"WEAVIATE_URL\")\n",
    "APIKEY = os.getenv(\"WEAVIATE_API_KEY\")\n",
    "\n",
    "# Connect to Weaviate Cloud\n",
    "client= weaviate.connect_to_weaviate_cloud(\n",
    "    cluster_url=URL,\n",
    "    auth_credentials=wvc.init.Auth.api_key(APIKEY),\n",
    ")\n",
    "\n",
    "client.is_ready()"
   ]
  },
  {
   "cell_type": "code",
   "execution_count": 32,
   "id": "37d70f89",
   "metadata": {},
   "outputs": [
    {
     "name": "stderr",
     "output_type": "stream",
     "text": [
      "Uploading to Weaviate: 100%|██████████| 43/43 [11:25<00:00, 15.94s/it]\n"
     ]
    }
   ],
   "source": [
    "from langchain_weaviate import WeaviateVectorStore\n",
    "import weaviate\n",
    "from tqdm import tqdm\n",
    "\n",
    "doc_search = WeaviateVectorStore(\n",
    "    client=client,\n",
    "    index_name=\"Medussa\",\n",
    "    embedding=embeddings,\n",
    "    text_key=\"page_content\"\n",
    ")\n",
    "\n",
    "# Insert in batches with tqdm\n",
    "batch_size = 100\n",
    "for i in tqdm(range(0, len(texts_chunks), batch_size), desc=\"Uploading to Weaviate\"):\n",
    "    batch = texts_chunks[i:i+batch_size]\n",
    "    doc_search.add_documents(batch)\n"
   ]
  },
  {
   "cell_type": "code",
   "execution_count": 36,
   "id": "65f3ef2b",
   "metadata": {},
   "outputs": [],
   "source": [
    "dswith=Document(\n",
    "    page_content=\"Hello my friend\",\n",
    "    metadata={\"source\":\"me\"}\n",
    ")"
   ]
  },
  {
   "cell_type": "markdown",
   "id": "942777aa",
   "metadata": {},
   "source": [
    "# Add more documents "
   ]
  },
  {
   "cell_type": "code",
   "execution_count": 37,
   "id": "4a46a1e6",
   "metadata": {},
   "outputs": [
    {
     "data": {
      "text/plain": [
       "['e3debe14-6022-4e2b-9513-e8a74116a27e']"
      ]
     },
     "execution_count": 37,
     "metadata": {},
     "output_type": "execute_result"
    }
   ],
   "source": [
    "doc_search.add_documents(documents=[dswith])"
   ]
  },
  {
   "cell_type": "code",
   "execution_count": 41,
   "id": "625a970d",
   "metadata": {},
   "outputs": [],
   "source": [
    "retriever=doc_search.as_retriever(search_type='similarity',search_kwargs={\"k\":3})"
   ]
  },
  {
   "cell_type": "code",
   "execution_count": 43,
   "id": "c2f7d613",
   "metadata": {},
   "outputs": [
    {
     "data": {
      "text/plain": [
       "[Document(metadata={'text': None, 'source': 'Z:\\\\VsCode\\\\Medussa-Medical Chatbot\\\\Medussa--Medical-Chatbot-\\\\data\\\\Medical_book.pdf'}, page_content='disease specialist, or an endocrinologist, a specialist who\\ntreats diseases of the body’s endocrine (hormones and\\nglands) system.\\nAcne has a characteristic appearance and is not diffi-\\ncult to diagnose. The doctor takes a complete medical\\nhistory, including questions about skin care, diet, factors\\ncausing flare-ups, medication use, and prior treatment.\\nPhysical examination includes the face, upper neck,\\nchest, shoulders, back, and other affected areas. Under\\ngood lighting, the doctor determines what types and how\\nmany blemishes are present, whether they are inflamed,\\nwhether they are deep or superficial, and whether there is\\nscarring or skin discoloration.'),\n",
       " Document(metadata={'text': None, 'source': 'Z:\\\\VsCode\\\\Medussa-Medical Chatbot\\\\Medussa--Medical-Chatbot-\\\\data\\\\Medical_book.pdf'}, page_content='and sweating in hot weather aggravate acne.\\n• Stress. Emotional stress may contribute to acne.\\nAcne is usually not conspicuous, although inflamed\\nlesions may cause pain, tenderness, itching, or swelling.\\nThe most troubling aspects of these lesions are the nega-\\ntive cosmetic effects and potential for scarring. Some\\npeople, especially teenagers, become emotionally upset\\nabout their condition, and have problems forming rela-\\ntionships or keeping jobs.\\nDiagnosis\\nAcne patients are often treated by family doctors.\\nComplicated cases are referred to a dermatologist, a skin\\nGALE ENCYCLOPEDIA OF MEDICINE 224\\nAcne\\nGEM - 0001 to 0432 - A  10/22/03 1:41 PM  Page 24'),\n",
       " Document(metadata={'text': None, 'source': 'Z:\\\\VsCode\\\\Medussa-Medical Chatbot\\\\Medussa--Medical-Chatbot-\\\\data\\\\Medical_book.pdf'}, page_content='pimples near the skin’s surface are called papules; when\\ndeeper, they are called pustules. The most severe type of\\nacne consists of cysts (closed sacs) and nodules (hard\\nswellings). Scarring occurs when new skin cells are laid\\ndown to replace damaged cells.\\nThe most common sites of acne are the face, chest,\\nshoulders, and back since these are the parts of the body\\nwhere the most sebaceous follicles are found.\\nCauses and symptoms\\nThe exact cause of acne is unknown. Several risk\\nfactors have been identified:\\n• Age. Due to the hormonal changes they experience,\\nteenagers are more likely to develop acne.\\n• Gender. Boys have more severe acne and develop it\\nmore often than girls.')]"
      ]
     },
     "execution_count": 43,
     "metadata": {},
     "output_type": "execute_result"
    }
   ],
   "source": [
    "retriver_docs=retriever.invoke(\"What is Acne\")\n",
    "retriver_docs"
   ]
  },
  {
   "cell_type": "code",
   "execution_count": 11,
   "id": "4ad3678a",
   "metadata": {},
   "outputs": [],
   "source": [
    "from langchain_google_genai import ChatGoogleGenerativeAI\n",
    "\n",
    "chatModel = ChatGoogleGenerativeAI(\n",
    "    model=\"gemini-2.5-pro\",\n",
    "    temperature=0.0,\n",
    "    max_tokens=None,\n",
    "    timeout=None,\n",
    "    max_retries=2\n",
    ")\n",
    "\n"
   ]
  },
  {
   "cell_type": "code",
   "execution_count": 57,
   "id": "83dc224f",
   "metadata": {},
   "outputs": [],
   "source": [
    "from langchain.chains import create_retrieval_chain\n",
    "from langchain.chains.combine_documents import create_stuff_documents_chain\n",
    "from langchain_core.prompts import ChatPromptTemplate\n"
   ]
  },
  {
   "cell_type": "code",
   "execution_count": 58,
   "id": "66a98fef",
   "metadata": {},
   "outputs": [],
   "source": [
    "system_prompt = (\n",
    "    \"You are a Medical assistant for question-answering tasks. \"\n",
    "    \"Use the following pieces of retrieved context to answer \"\n",
    "    \"the question. If you don't know the answer, say that you \"\n",
    "    \"don't know. Use three sentences maximum and keep the \"\n",
    "    \"answer concise.\"\n",
    "    \"\\n\\n\"\n",
    "    \"{context}\"\n",
    ")\n",
    "\n",
    "prompt = ChatPromptTemplate.from_messages(\n",
    "    [\n",
    "        (\"system\", system_prompt),\n",
    "        (\"human\", \"{input}\"),\n",
    "    ]\n",
    ")\n"
   ]
  },
  {
   "cell_type": "code",
   "execution_count": 59,
   "id": "623204c5",
   "metadata": {},
   "outputs": [],
   "source": [
    "# Create the question-answer chain\n",
    "question_answer_chain = create_stuff_documents_chain(chatModel, prompt)\n",
    "# Create the retrieval-augmented generation (RAG) chain\n",
    "rag_chain = create_retrieval_chain(retriever, question_answer_chain)"
   ]
  },
  {
   "cell_type": "code",
   "execution_count": 60,
   "id": "25b24888",
   "metadata": {},
   "outputs": [
    {
     "name": "stdout",
     "output_type": "stream",
     "text": [
      "Acromegaly and gigantism are rare disorders caused by an excess of growth hormone (GH) released from the pituitary gland. Gigantism occurs in children whose bony growth plates have not yet closed, leading to exceptional growth of long bones and unusual height. When this condition occurs in adults after bone growth has stopped, it is called acromegaly.\n"
     ]
    }
   ],
   "source": [
    "# Invoke the chain with a query\n",
    "response = rag_chain.invoke({\"input\": \"What is Acromegaly and gigantism?\"})\n",
    "\n",
    "print(response[\"answer\"])"
   ]
  },
  {
   "cell_type": "code",
   "execution_count": null,
   "id": "d663be93",
   "metadata": {},
   "outputs": [],
   "source": []
  }
 ],
 "metadata": {
  "kernelspec": {
   "display_name": "Python 3",
   "language": "python",
   "name": "python3"
  },
  "language_info": {
   "codemirror_mode": {
    "name": "ipython",
    "version": 3
   },
   "file_extension": ".py",
   "mimetype": "text/x-python",
   "name": "python",
   "nbconvert_exporter": "python",
   "pygments_lexer": "ipython3",
   "version": "3.13.7"
  }
 },
 "nbformat": 4,
 "nbformat_minor": 5
}
